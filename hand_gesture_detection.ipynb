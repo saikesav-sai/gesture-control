{
 "cells": [
  {
   "cell_type": "code",
   "execution_count": 142,
   "metadata": {},
   "outputs": [],
   "source": [
    "import cv2\n",
    "import numpy as np\n",
    "import mediapipe as mp\n",
    "import tensorflow as tf\n",
    "import keyboard"
   ]
  },
  {
   "cell_type": "code",
   "execution_count": 143,
   "metadata": {},
   "outputs": [],
   "source": [
    "mp_hands = mp.solutions.hands\n",
    "hands=mp_hands.Hands(max_num_hands=1,min_detection_confidence=0.7)\n",
    "mp_drawing = mp.solutions.drawing_utils\n"
   ]
  },
  {
   "cell_type": "code",
   "execution_count": 144,
   "metadata": {},
   "outputs": [],
   "source": [
    "# I nitialize the video capture\n",
    "cap = cv2.VideoCapture(0)\n",
    "# # Replace 'ip_camera_url' with the URL of your IP camera stream\n",
    "# ip_camera_url = 'http://<camera_ip_address>:<port>/video'\n",
    "# cap = cv2.VideoCapture(ip_camera_url)\n",
    "\n",
    "   # if not cap.isOpened():\n",
    "#         print(\"Error: Could not open IP camera stream.\")\n",
    "#\n"
   ]
  },
  {
   "cell_type": "code",
   "execution_count": 145,
   "metadata": {},
   "outputs": [],
   "source": [
    "\n",
    "\n",
    "def release_all_keys():\n",
    "    all_keys = (\n",
    "        [' ' ,'up','down','left','right']\n",
    "        \n",
    "    )\n",
    "    for key in all_keys:\n",
    "        keyboard.release(key)\n",
    "    "
   ]
  },
  {
   "cell_type": "code",
   "execution_count": 146,
   "metadata": {},
   "outputs": [],
   "source": [
    "#opening excel sheet\n",
    "from ast import And\n",
    "from calendar import c\n",
    "from hmac import new\n",
    "from math import pi\n",
    "direction=[' ' ,'w','s','a','d']\n",
    "old_for_back=0\n",
    "old_left_right=0\n",
    "f = open(\"coordinaates.csv\", \"w\")\n",
    "while cap.isOpened():\n",
    "        ret, frame = cap.read()\n",
    "        if not ret:\n",
    "            break\n",
    "\n",
    "        frame = cv2.flip(frame, 1)\n",
    "        rgb_frame = cv2.cvtColor(frame, cv2.COLOR_BGR2RGB)\n",
    "\n",
    "        # Process the frame with MediaPipe Hands\n",
    "        results = hands.process(rgb_frame)\n",
    "        if results.multi_hand_landmarks:                     #it means that the MediaPipe Hands model has detected one or more hands in the frame\n",
    "            for hand_landmarks in results.multi_hand_landmarks:\n",
    "                mp_drawing.draw_landmarks(\n",
    "                    frame,\n",
    "                    hand_landmarks,\n",
    "                    mp_hands.HAND_CONNECTIONS,\n",
    "                    mp_drawing.DrawingSpec(color=(0, 0, 255), thickness=2, circle_radius=2),\n",
    "                    mp_drawing.DrawingSpec(color=(0, 255, 0), thickness=2)\n",
    "                )\n",
    "                \n",
    "                wrist = hand_landmarks.landmark[mp_hands.HandLandmark.WRIST]\n",
    "                index_finger_tip = hand_landmarks.landmark[mp_hands.HandLandmark.INDEX_FINGER_TIP]\n",
    "                index_finger_mcp = hand_landmarks.landmark[mp_hands.HandLandmark.INDEX_FINGER_MCP]\n",
    "\n",
    "\n",
    "                if (index_finger_mcp.y>index_finger_tip.y):\n",
    "                    if ((index_finger_tip.x-wrist.x)<-.20):\n",
    "                        cv2.putText(frame, \"open-left\", (50, 150), cv2.FONT_HERSHEY_SIMPLEX, 2, (0, 255, 255), 2, cv2.LINE_AA)\n",
    "                        release_all_keys()\n",
    "                        keyboard.press('w')\n",
    "                        keyboard.press('a')\n",
    "\n",
    "                    elif ((index_finger_tip.x-wrist.x)>.05):\n",
    "                        cv2.putText(frame, \"open-right\", (50, 150), cv2.FONT_HERSHEY_SIMPLEX, 2, (0, 255, 255), 2, cv2.LINE_AA)\n",
    "                        release_all_keys()\n",
    "                        keyboard.press('w')\n",
    "                        keyboard.press('d')\n",
    "                    else:\n",
    "                        cv2.putText(frame, \"open\", (50, 150), cv2.FONT_HERSHEY_SIMPLEX, 2, (255, 255, 0), 2, cv2.LINE_AA)\n",
    "                        release_all_keys()\n",
    "                        keyboard.press('w')\n",
    "                else:\n",
    "                    if ((index_finger_tip.x-wrist.x)<-.20):\n",
    "                        cv2.putText(frame, \"close-left\", (50, 150), cv2.FONT_HERSHEY_SIMPLEX, 2, (0, 255, 255), 2, cv2.LINE_AA)\n",
    "                        release_all_keys()\n",
    "                        keyboard.press('s')\n",
    "                        keyboard.press('a')\n",
    "                    elif ((index_finger_tip.x-wrist.x)>.05):\n",
    "                        cv2.putText(frame, \"close-right\", (50, 150), cv2.FONT_HERSHEY_SIMPLEX, 2, (0, 255, 255), 2, cv2.LINE_AA)\n",
    "                        release_all_keys()\n",
    "                        keyboard.press('s')\n",
    "                        keyboard.press('d')\n",
    "                    else:\n",
    "                        cv2.putText(frame, \"close\", (50, 150), cv2.FONT_HERSHEY_SIMPLEX, 2, (255, 255, 0), 2, cv2.LINE_AA)\n",
    "                        release_all_keys()\n",
    "                        keyboard.press('s')\n",
    "\n",
    "\n",
    "\n",
    "               \n",
    "        # Display the frame\n",
    "        cv2.imshow('MediaPipe Hand Gesture', frame)\n",
    "\n",
    "        if cv2.waitKey(1) & 0xFF == ord('q'):\n",
    "            break"
   ]
  },
  {
   "cell_type": "code",
   "execution_count": 147,
   "metadata": {},
   "outputs": [],
   "source": [
    "cap.release()\n",
    "f.close()\n",
    "cv2.destroyAllWindows()"
   ]
  }
 ],
 "metadata": {
  "kernelspec": {
   "display_name": "Python 3",
   "language": "python",
   "name": "python3"
  },
  "language_info": {
   "codemirror_mode": {
    "name": "ipython",
    "version": 3
   },
   "file_extension": ".py",
   "mimetype": "text/x-python",
   "name": "python",
   "nbconvert_exporter": "python",
   "pygments_lexer": "ipython3",
   "version": "3.10.14"
  }
 },
 "nbformat": 4,
 "nbformat_minor": 2
}

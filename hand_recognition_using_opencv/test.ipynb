{
 "cells": [
  {
   "cell_type": "code",
   "execution_count": 1,
   "metadata": {},
   "outputs": [
    {
     "name": "stdout",
     "output_type": "stream",
     "text": [
      "Connected cameras: [0, 1, 2, 3, 4]\n"
     ]
    }
   ],
   "source": [
    "import cv2\n",
    "\n",
    "def find_connected_cameras(max_cameras=10):\n",
    "    connected_cameras = []\n",
    "    for i in range(max_cameras):\n",
    "        cap = cv2.VideoCapture(i)\n",
    "        if cap.isOpened():\n",
    "            connected_cameras.append(i)\n",
    "            cap.release()\n",
    "    return connected_cameras\n",
    "\n",
    "def main():\n",
    "    max_cameras_to_check = 10  # You can adjust this number based on your needs\n",
    "    connected_cameras = find_connected_cameras(max_cameras_to_check)\n",
    "    \n",
    "    if connected_cameras:\n",
    "        print(f\"Connected cameras: {connected_cameras}\")\n",
    "    else:\n",
    "        print(\"No cameras connected.\")\n",
    "\n",
    "if __name__ == \"__main__\":\n",
    "    main()\n"
   ]
  }
 ],
 "metadata": {
  "kernelspec": {
   "display_name": "Python 3",
   "language": "python",
   "name": "python3"
  },
  "language_info": {
   "codemirror_mode": {
    "name": "ipython",
    "version": 3
   },
   "file_extension": ".py",
   "mimetype": "text/x-python",
   "name": "python",
   "nbconvert_exporter": "python",
   "pygments_lexer": "ipython3",
   "version": "3.10.14"
  }
 },
 "nbformat": 4,
 "nbformat_minor": 2
}
